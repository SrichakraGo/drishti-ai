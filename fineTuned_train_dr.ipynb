{
  "nbformat": 4,
  "nbformat_minor": 0,
  "metadata": {
    "colab": {
      "provenance": [],
      "gpuType": "T4"
    },
    "kernelspec": {
      "name": "python3",
      "display_name": "Python 3"
    },
    "language_info": {
      "name": "python"
    },
    "accelerator": "GPU"
  },
  "cells": [
    {
      "cell_type": "code",
      "execution_count": null,
      "metadata": {
        "colab": {
          "base_uri": "https://localhost:8080/",
          "height": 91
        },
        "id": "6mg7Ezed_Ocu",
        "outputId": "2c796661-fd3d-40b0-d138-e10dd33bcfaa"
      },
      "outputs": [
        {
          "output_type": "display_data",
          "data": {
            "text/plain": [
              "<IPython.core.display.HTML object>"
            ],
            "text/html": [
              "\n",
              "     <input type=\"file\" id=\"files-fcfff390-ec47-45eb-96ad-663fd1ba8156\" name=\"files[]\" multiple disabled\n",
              "        style=\"border:none\" />\n",
              "     <output id=\"result-fcfff390-ec47-45eb-96ad-663fd1ba8156\">\n",
              "      Upload widget is only available when the cell has been executed in the\n",
              "      current browser session. Please rerun this cell to enable.\n",
              "      </output>\n",
              "      <script>// Copyright 2017 Google LLC\n",
              "//\n",
              "// Licensed under the Apache License, Version 2.0 (the \"License\");\n",
              "// you may not use this file except in compliance with the License.\n",
              "// You may obtain a copy of the License at\n",
              "//\n",
              "//      http://www.apache.org/licenses/LICENSE-2.0\n",
              "//\n",
              "// Unless required by applicable law or agreed to in writing, software\n",
              "// distributed under the License is distributed on an \"AS IS\" BASIS,\n",
              "// WITHOUT WARRANTIES OR CONDITIONS OF ANY KIND, either express or implied.\n",
              "// See the License for the specific language governing permissions and\n",
              "// limitations under the License.\n",
              "\n",
              "/**\n",
              " * @fileoverview Helpers for google.colab Python module.\n",
              " */\n",
              "(function(scope) {\n",
              "function span(text, styleAttributes = {}) {\n",
              "  const element = document.createElement('span');\n",
              "  element.textContent = text;\n",
              "  for (const key of Object.keys(styleAttributes)) {\n",
              "    element.style[key] = styleAttributes[key];\n",
              "  }\n",
              "  return element;\n",
              "}\n",
              "\n",
              "// Max number of bytes which will be uploaded at a time.\n",
              "const MAX_PAYLOAD_SIZE = 100 * 1024;\n",
              "\n",
              "function _uploadFiles(inputId, outputId) {\n",
              "  const steps = uploadFilesStep(inputId, outputId);\n",
              "  const outputElement = document.getElementById(outputId);\n",
              "  // Cache steps on the outputElement to make it available for the next call\n",
              "  // to uploadFilesContinue from Python.\n",
              "  outputElement.steps = steps;\n",
              "\n",
              "  return _uploadFilesContinue(outputId);\n",
              "}\n",
              "\n",
              "// This is roughly an async generator (not supported in the browser yet),\n",
              "// where there are multiple asynchronous steps and the Python side is going\n",
              "// to poll for completion of each step.\n",
              "// This uses a Promise to block the python side on completion of each step,\n",
              "// then passes the result of the previous step as the input to the next step.\n",
              "function _uploadFilesContinue(outputId) {\n",
              "  const outputElement = document.getElementById(outputId);\n",
              "  const steps = outputElement.steps;\n",
              "\n",
              "  const next = steps.next(outputElement.lastPromiseValue);\n",
              "  return Promise.resolve(next.value.promise).then((value) => {\n",
              "    // Cache the last promise value to make it available to the next\n",
              "    // step of the generator.\n",
              "    outputElement.lastPromiseValue = value;\n",
              "    return next.value.response;\n",
              "  });\n",
              "}\n",
              "\n",
              "/**\n",
              " * Generator function which is called between each async step of the upload\n",
              " * process.\n",
              " * @param {string} inputId Element ID of the input file picker element.\n",
              " * @param {string} outputId Element ID of the output display.\n",
              " * @return {!Iterable<!Object>} Iterable of next steps.\n",
              " */\n",
              "function* uploadFilesStep(inputId, outputId) {\n",
              "  const inputElement = document.getElementById(inputId);\n",
              "  inputElement.disabled = false;\n",
              "\n",
              "  const outputElement = document.getElementById(outputId);\n",
              "  outputElement.innerHTML = '';\n",
              "\n",
              "  const pickedPromise = new Promise((resolve) => {\n",
              "    inputElement.addEventListener('change', (e) => {\n",
              "      resolve(e.target.files);\n",
              "    });\n",
              "  });\n",
              "\n",
              "  const cancel = document.createElement('button');\n",
              "  inputElement.parentElement.appendChild(cancel);\n",
              "  cancel.textContent = 'Cancel upload';\n",
              "  const cancelPromise = new Promise((resolve) => {\n",
              "    cancel.onclick = () => {\n",
              "      resolve(null);\n",
              "    };\n",
              "  });\n",
              "\n",
              "  // Wait for the user to pick the files.\n",
              "  const files = yield {\n",
              "    promise: Promise.race([pickedPromise, cancelPromise]),\n",
              "    response: {\n",
              "      action: 'starting',\n",
              "    }\n",
              "  };\n",
              "\n",
              "  cancel.remove();\n",
              "\n",
              "  // Disable the input element since further picks are not allowed.\n",
              "  inputElement.disabled = true;\n",
              "\n",
              "  if (!files) {\n",
              "    return {\n",
              "      response: {\n",
              "        action: 'complete',\n",
              "      }\n",
              "    };\n",
              "  }\n",
              "\n",
              "  for (const file of files) {\n",
              "    const li = document.createElement('li');\n",
              "    li.append(span(file.name, {fontWeight: 'bold'}));\n",
              "    li.append(span(\n",
              "        `(${file.type || 'n/a'}) - ${file.size} bytes, ` +\n",
              "        `last modified: ${\n",
              "            file.lastModifiedDate ? file.lastModifiedDate.toLocaleDateString() :\n",
              "                                    'n/a'} - `));\n",
              "    const percent = span('0% done');\n",
              "    li.appendChild(percent);\n",
              "\n",
              "    outputElement.appendChild(li);\n",
              "\n",
              "    const fileDataPromise = new Promise((resolve) => {\n",
              "      const reader = new FileReader();\n",
              "      reader.onload = (e) => {\n",
              "        resolve(e.target.result);\n",
              "      };\n",
              "      reader.readAsArrayBuffer(file);\n",
              "    });\n",
              "    // Wait for the data to be ready.\n",
              "    let fileData = yield {\n",
              "      promise: fileDataPromise,\n",
              "      response: {\n",
              "        action: 'continue',\n",
              "      }\n",
              "    };\n",
              "\n",
              "    // Use a chunked sending to avoid message size limits. See b/62115660.\n",
              "    let position = 0;\n",
              "    do {\n",
              "      const length = Math.min(fileData.byteLength - position, MAX_PAYLOAD_SIZE);\n",
              "      const chunk = new Uint8Array(fileData, position, length);\n",
              "      position += length;\n",
              "\n",
              "      const base64 = btoa(String.fromCharCode.apply(null, chunk));\n",
              "      yield {\n",
              "        response: {\n",
              "          action: 'append',\n",
              "          file: file.name,\n",
              "          data: base64,\n",
              "        },\n",
              "      };\n",
              "\n",
              "      let percentDone = fileData.byteLength === 0 ?\n",
              "          100 :\n",
              "          Math.round((position / fileData.byteLength) * 100);\n",
              "      percent.textContent = `${percentDone}% done`;\n",
              "\n",
              "    } while (position < fileData.byteLength);\n",
              "  }\n",
              "\n",
              "  // All done.\n",
              "  yield {\n",
              "    response: {\n",
              "      action: 'complete',\n",
              "    }\n",
              "  };\n",
              "}\n",
              "\n",
              "scope.google = scope.google || {};\n",
              "scope.google.colab = scope.google.colab || {};\n",
              "scope.google.colab._files = {\n",
              "  _uploadFiles,\n",
              "  _uploadFilesContinue,\n",
              "};\n",
              "})(self);\n",
              "</script> "
            ]
          },
          "metadata": {}
        },
        {
          "output_type": "stream",
          "name": "stdout",
          "text": [
            "Saving kaggle.json to kaggle.json\n"
          ]
        },
        {
          "output_type": "execute_result",
          "data": {
            "text/plain": [
              "{'kaggle.json': b'{\"username\":\"srichakragoparaju\",\"key\":\"2afb07d660b60d68cf0ca6a369134398\"}'}"
            ]
          },
          "metadata": {},
          "execution_count": 2
        }
      ],
      "source": [
        "from google.colab import files\n",
        "files.upload()   # choose your kaggle.json file\n"
      ]
    },
    {
      "cell_type": "code",
      "source": [
        "!mkdir -p ~/.kaggle\n",
        "!mv kaggle.json ~/.kaggle/\n",
        "!chmod 600 ~/.kaggle/kaggle.json\n",
        "\n",
        "!kaggle datasets download -d sovitrath/diabetic-retinopathy-224x224-2019-data\n",
        "!unzip -q diabetic-retinopathy-224x224-2019-data.zip -d dataset\n"
      ],
      "metadata": {
        "colab": {
          "base_uri": "https://localhost:8080/"
        },
        "id": "awJ9Rl9DAIsk",
        "outputId": "29bf3c13-a54c-49f7-a949-c57ba4c38276"
      },
      "execution_count": null,
      "outputs": [
        {
          "output_type": "stream",
          "name": "stdout",
          "text": [
            "Dataset URL: https://www.kaggle.com/datasets/sovitrath/diabetic-retinopathy-224x224-2019-data\n",
            "License(s): CC0-1.0\n",
            "Downloading diabetic-retinopathy-224x224-2019-data.zip to /content\n",
            " 64% 153M/238M [00:00<00:00, 1.59GB/s]\n",
            "100% 238M/238M [00:00<00:00, 999MB/s] \n"
          ]
        }
      ]
    },
    {
      "cell_type": "code",
      "source": [
        "import os\n",
        "import shutil\n",
        "from sklearn.model_selection import train_test_split\n",
        "\n",
        "base_dir = \"/content/dataset/colored_images\"\n",
        "train_dir = \"/content/data/train\"\n",
        "val_dir = \"/content/data/val\"\n",
        "\n",
        "os.makedirs(train_dir, exist_ok=True)\n",
        "os.makedirs(val_dir, exist_ok=True)\n",
        "\n",
        "for cls in os.listdir(base_dir):\n",
        "    cls_path = os.path.join(base_dir, cls)\n",
        "    if not os.path.isdir(cls_path):\n",
        "        continue\n",
        "\n",
        "    images = os.listdir(cls_path)\n",
        "    train_imgs, val_imgs = train_test_split(images, test_size=0.2, random_state=42)\n",
        "\n",
        "    os.makedirs(os.path.join(train_dir, cls), exist_ok=True)\n",
        "    os.makedirs(os.path.join(val_dir, cls), exist_ok=True)\n",
        "\n",
        "    for img in train_imgs:\n",
        "        shutil.copy(os.path.join(cls_path, img), os.path.join(train_dir, cls, img))\n",
        "    for img in val_imgs:\n",
        "        shutil.copy(os.path.join(cls_path, img), os.path.join(val_dir, cls, img))\n",
        "\n",
        "print(\"✅ Split complete!\")\n",
        "print(\"Train folders:\", os.listdir(train_dir))\n",
        "print(\"Val folders:\", os.listdir(val_dir))\n"
      ],
      "metadata": {
        "colab": {
          "base_uri": "https://localhost:8080/"
        },
        "id": "tRiKLHi1AsRB",
        "outputId": "810ec967-95a5-4a1f-d109-625be5356e74"
      },
      "execution_count": null,
      "outputs": [
        {
          "output_type": "stream",
          "name": "stdout",
          "text": [
            "✅ Split complete!\n",
            "Train folders: ['Moderate', 'No_DR', 'Severe', 'Mild', 'Proliferate_DR']\n",
            "Val folders: ['Moderate', 'No_DR', 'Severe', 'Mild', 'Proliferate_DR']\n"
          ]
        }
      ]
    },
    {
      "cell_type": "code",
      "source": [
        "import torch\n",
        "import torch.nn as nn\n",
        "import torch.optim as optim\n",
        "from torchvision import models, transforms, datasets\n",
        "from torch.optim import lr_scheduler\n",
        "import kagglehub\n",
        "import os\n",
        "\n",
        "# Select GPU if available\n",
        "device = torch.device(\"cuda\" if torch.cuda.is_available() else \"cpu\")\n",
        "print(\"Using device:\", device)\n",
        "\n",
        "# -----------------------\n",
        "# 1️⃣ Load the pretrained model weights\n",
        "# -----------------------\n",
        "print(\"Downloading pretrained weights...\")\n",
        "path = kagglehub.dataset_download(\"souravs17031999/blindness-detection-pretrained-weights-pytorch\")\n",
        "weight_path = os.path.join(path, \"classifier.pt\")\n",
        "print(\"Weights path:\", weight_path)\n",
        "\n",
        "# -----------------------\n",
        "# 2️⃣ Load ResNet152 and attach custom classifier\n",
        "# -----------------------\n",
        "model = models.resnet152(pretrained=False)\n",
        "num_ftrs = model.fc.in_features\n",
        "out_ftrs = 5  # 5 classes\n",
        "model.fc = nn.Sequential(\n",
        "    nn.Linear(num_ftrs, 512),\n",
        "    nn.ReLU(),\n",
        "    nn.Linear(512, out_ftrs),\n",
        "    nn.LogSoftmax(dim=1)\n",
        ")\n",
        "\n",
        "# -----------------------\n",
        "# 3️⃣ Load the pretrained checkpoint (safe)\n",
        "# -----------------------\n",
        "checkpoint = torch.load(weight_path, map_location='cpu', weights_only=False)\n",
        "model.load_state_dict(checkpoint['model_state_dict'], strict=False)\n",
        "\n",
        "model = model.to(device)\n",
        "print(\"✅ Model loaded and ready for fine-tuning!\")\n",
        "\n",
        "# -----------------------\n",
        "# 4️⃣ Define transforms and datasets\n",
        "# -----------------------\n",
        "train_dir = \"/content/data/train\"\n",
        "val_dir = \"/content/data/val\"\n",
        "\n",
        "train_transforms = transforms.Compose([\n",
        "    transforms.Resize((224, 224)),\n",
        "    transforms.RandomHorizontalFlip(),\n",
        "    transforms.RandomRotation(15),\n",
        "    transforms.ToTensor(),\n",
        "    transforms.Normalize(mean=(0.485, 0.456, 0.406), std=(0.229, 0.224, 0.225))\n",
        "])\n",
        "\n",
        "val_transforms = transforms.Compose([\n",
        "    transforms.Resize((224, 224)),\n",
        "    transforms.ToTensor(),\n",
        "    transforms.Normalize(mean=(0.485, 0.456, 0.406), std=(0.229, 0.224, 0.225))\n",
        "])\n",
        "\n",
        "train_data = datasets.ImageFolder(train_dir, transform=train_transforms)\n",
        "val_data = datasets.ImageFolder(val_dir, transform=val_transforms)\n",
        "\n",
        "train_loader = torch.utils.data.DataLoader(train_data, batch_size=32, shuffle=True)\n",
        "val_loader = torch.utils.data.DataLoader(val_data, batch_size=32)\n",
        "\n",
        "print(\"✅ Datasets and loaders ready!\")\n",
        "\n",
        "# -----------------------\n",
        "# 5️⃣ Define loss, optimizer, and scheduler\n",
        "# -----------------------\n",
        "criterion = nn.NLLLoss()\n",
        "optimizer = optim.Adam(model.parameters(), lr=1e-5)\n",
        "scheduler = lr_scheduler.StepLR(optimizer, step_size=5, gamma=0.1)\n"
      ],
      "metadata": {
        "colab": {
          "base_uri": "https://localhost:8080/"
        },
        "id": "m8TsAAlSA-60",
        "outputId": "022236b5-f0d9-4a7f-bac7-b9087eaac233"
      },
      "execution_count": null,
      "outputs": [
        {
          "output_type": "stream",
          "name": "stdout",
          "text": [
            "Using device: cuda\n",
            "Downloading pretrained weights...\n",
            "Downloading from https://www.kaggle.com/api/v1/datasets/download/souravs17031999/blindness-detection-pretrained-weights-pytorch?dataset_version_number=1...\n"
          ]
        },
        {
          "output_type": "stream",
          "name": "stderr",
          "text": [
            "100%|██████████| 617M/617M [00:05<00:00, 119MB/s]"
          ]
        },
        {
          "output_type": "stream",
          "name": "stdout",
          "text": [
            "Extracting files...\n"
          ]
        },
        {
          "output_type": "stream",
          "name": "stderr",
          "text": [
            "\n"
          ]
        },
        {
          "output_type": "stream",
          "name": "stdout",
          "text": [
            "Weights path: /root/.cache/kagglehub/datasets/souravs17031999/blindness-detection-pretrained-weights-pytorch/versions/1/classifier.pt\n"
          ]
        },
        {
          "output_type": "stream",
          "name": "stderr",
          "text": [
            "/usr/local/lib/python3.12/dist-packages/torchvision/models/_utils.py:208: UserWarning: The parameter 'pretrained' is deprecated since 0.13 and may be removed in the future, please use 'weights' instead.\n",
            "  warnings.warn(\n",
            "/usr/local/lib/python3.12/dist-packages/torchvision/models/_utils.py:223: UserWarning: Arguments other than a weight enum or `None` for 'weights' are deprecated since 0.13 and may be removed in the future. The current behavior is equivalent to passing `weights=None`.\n",
            "  warnings.warn(msg)\n"
          ]
        },
        {
          "output_type": "stream",
          "name": "stdout",
          "text": [
            "✅ Model loaded and ready for fine-tuning!\n",
            "✅ Datasets and loaders ready!\n"
          ]
        }
      ]
    },
    {
      "cell_type": "code",
      "source": [
        "print(train_data.class_to_idx)"
      ],
      "metadata": {
        "id": "8VVmJIUhONEB",
        "outputId": "66a74abd-723b-4ad1-c8f8-07d2e1243806",
        "colab": {
          "base_uri": "https://localhost:8080/"
        }
      },
      "execution_count": null,
      "outputs": [
        {
          "output_type": "stream",
          "name": "stdout",
          "text": [
            "{'Mild': 0, 'Moderate': 1, 'No_DR': 2, 'Proliferate_DR': 3, 'Severe': 4}\n"
          ]
        }
      ]
    },
    {
      "cell_type": "code",
      "source": [
        "import time\n",
        "\n",
        "num_epochs = 10  # you can increase this later for better accuracy\n",
        "\n",
        "best_acc = 0.0\n",
        "\n",
        "for epoch in range(num_epochs):\n",
        "    print(f\"\\nEpoch {epoch+1}/{num_epochs}\")\n",
        "    print(\"-\" * 20)\n",
        "\n",
        "    # Each epoch has a training and validation phase\n",
        "    for phase in ['train', 'val']:\n",
        "        if phase == 'train':\n",
        "            model.train()  # Set model to training mode\n",
        "            dataloader = train_loader\n",
        "        else:\n",
        "            model.eval()   # Set model to evaluation mode\n",
        "            dataloader = val_loader\n",
        "\n",
        "        running_loss = 0.0\n",
        "        running_corrects = 0\n",
        "\n",
        "        # Iterate over data\n",
        "        for inputs, labels in dataloader:\n",
        "            inputs, labels = inputs.to(device), labels.to(device)\n",
        "\n",
        "            optimizer.zero_grad()\n",
        "\n",
        "            with torch.set_grad_enabled(phase == 'train'):\n",
        "                outputs = model(inputs)\n",
        "                _, preds = torch.max(outputs, 1)\n",
        "                loss = criterion(outputs, labels)\n",
        "\n",
        "                if phase == 'train':\n",
        "                    loss.backward()\n",
        "                    optimizer.step()\n",
        "\n",
        "            running_loss += loss.item() * inputs.size(0)\n",
        "            running_corrects += torch.sum(preds == labels.data)\n",
        "\n",
        "        epoch_loss = running_loss / len(dataloader.dataset)\n",
        "        epoch_acc = running_corrects.double() / len(dataloader.dataset)\n",
        "\n",
        "        print(f\"{phase} Loss: {epoch_loss:.4f} Acc: {epoch_acc:.4f}\")\n",
        "\n",
        "        # deep copy the model\n",
        "        if phase == 'val' and epoch_acc > best_acc:\n",
        "            best_acc = epoch_acc\n",
        "            torch.save(model.state_dict(), \"best_model.pth\")\n",
        "\n",
        "    scheduler.step()\n",
        "\n",
        "print(\"\\n✅ Training complete! Best validation accuracy: {:.4f}\".format(best_acc))\n"
      ],
      "metadata": {
        "colab": {
          "base_uri": "https://localhost:8080/"
        },
        "id": "KwUHh0C_BWc6",
        "outputId": "33cd0290-47cf-4f2a-c28c-326dbd5e1430"
      },
      "execution_count": null,
      "outputs": [
        {
          "output_type": "stream",
          "name": "stdout",
          "text": [
            "\n",
            "Epoch 1/10\n",
            "--------------------\n",
            "train Loss: 1.3053 Acc: 0.6244\n",
            "val Loss: 0.6762 Acc: 0.7544\n",
            "\n",
            "Epoch 2/10\n",
            "--------------------\n",
            "train Loss: 0.5704 Acc: 0.8013\n",
            "val Loss: 0.5451 Acc: 0.8131\n",
            "\n",
            "Epoch 3/10\n",
            "--------------------\n",
            "train Loss: 0.4677 Acc: 0.8320\n",
            "val Loss: 0.5045 Acc: 0.8199\n",
            "\n",
            "Epoch 4/10\n",
            "--------------------\n",
            "train Loss: 0.3969 Acc: 0.8563\n",
            "val Loss: 0.4912 Acc: 0.8308\n",
            "\n",
            "Epoch 5/10\n",
            "--------------------\n",
            "train Loss: 0.3395 Acc: 0.8785\n",
            "val Loss: 0.4613 Acc: 0.8445\n",
            "\n",
            "Epoch 6/10\n",
            "--------------------\n",
            "train Loss: 0.2817 Acc: 0.8979\n",
            "val Loss: 0.4650 Acc: 0.8458\n",
            "\n",
            "Epoch 7/10\n",
            "--------------------\n",
            "train Loss: 0.2789 Acc: 0.8976\n",
            "val Loss: 0.4595 Acc: 0.8404\n",
            "\n",
            "Epoch 8/10\n",
            "--------------------\n",
            "train Loss: 0.2597 Acc: 0.9095\n",
            "val Loss: 0.4591 Acc: 0.8472\n",
            "\n",
            "Epoch 9/10\n",
            "--------------------\n",
            "train Loss: 0.2655 Acc: 0.8993\n",
            "val Loss: 0.4682 Acc: 0.8404\n",
            "\n",
            "Epoch 10/10\n",
            "--------------------\n",
            "train Loss: 0.2605 Acc: 0.9068\n",
            "val Loss: 0.4595 Acc: 0.8486\n",
            "\n",
            "✅ Training complete! Best validation accuracy: 0.8486\n"
          ]
        }
      ]
    },
    {
      "cell_type": "code",
      "source": [
        "# --- Import Required Packages ---\n",
        "import torch\n",
        "from torchvision import models, transforms\n",
        "from PIL import Image\n",
        "import torch.nn as nn\n",
        "\n",
        "# --- Load Device ---\n",
        "device = torch.device(\"cuda\" if torch.cuda.is_available() else \"cpu\")\n",
        "print(f\"Using device: {device}\")\n",
        "\n",
        "# --- Define Model Architecture ---\n",
        "model = models.resnet152(weights=None)\n",
        "num_ftrs = model.fc.in_features\n",
        "model.fc = nn.Sequential(\n",
        "    nn.Linear(num_ftrs, 512),\n",
        "    nn.ReLU(),\n",
        "    nn.Linear(512, 5),  # 5 classes\n",
        "    nn.LogSoftmax(dim=1)\n",
        ")\n",
        "\n",
        "# --- Load the Trained Weights ---\n",
        "model_path = \"best_model.pth\"\n",
        "state_dict = torch.load(model_path, map_location=device)\n",
        "model.load_state_dict(state_dict)\n",
        "model.to(device)\n",
        "model.eval()\n",
        "\n",
        "print(\"✅ Model loaded successfully!\")\n",
        "\n",
        "# --- Define Class Labels ---\n",
        "classes = ['No DR', 'Mild', 'Moderate', 'Severe', 'Proliferative DR']\n",
        "\n",
        "# --- Define Image Transformations ---\n",
        "test_transforms = transforms.Compose([\n",
        "    transforms.Resize((224, 224)),\n",
        "    transforms.ToTensor(),\n",
        "    transforms.Normalize(mean=(0.485, 0.456, 0.406),\n",
        "                         std=(0.229, 0.224, 0.225))\n",
        "])\n",
        "\n",
        "# --- Inference Function ---\n",
        "def predict_image(image_path):\n",
        "    image = Image.open(image_path).convert('RGB')\n",
        "    img_tensor = test_transforms(image).unsqueeze(0).to(device)\n",
        "\n",
        "    with torch.no_grad():\n",
        "        output = model(img_tensor)\n",
        "        probabilities = torch.exp(output)\n",
        "        top_p, top_class = probabilities.topk(1, dim=1)\n",
        "        pred_index = top_class.item()\n",
        "        confidence = top_p.item()\n",
        "\n",
        "    print(f\"\\n🩺 Predicted Class: {classes[pred_index]}\")\n",
        "    print(f\"🔢 Class Index: {pred_index}\")\n",
        "    print(f\"💯 Confidence: {confidence:.4f}\")\n",
        "\n",
        "    return classes[pred_index], confidence\n",
        "\n",
        "# --- Example Usage ---\n",
        "# Replace this with your test image path\n",
        "test_image_path = \"/content/data/train/Proliferate_DR/080f66eedfb9.png\"\n",
        "predict_image(test_image_path)\n"
      ],
      "metadata": {
        "colab": {
          "base_uri": "https://localhost:8080/"
        },
        "id": "HBeUtd3XIIpU",
        "outputId": "f13e6059-4869-42f6-aea5-6069ab4c8446"
      },
      "execution_count": null,
      "outputs": [
        {
          "output_type": "stream",
          "name": "stdout",
          "text": [
            "Using device: cuda\n",
            "✅ Model loaded successfully!\n",
            "\n",
            "🩺 Predicted Class: Severe\n",
            "🔢 Class Index: 3\n",
            "💯 Confidence: 0.7403\n"
          ]
        },
        {
          "output_type": "execute_result",
          "data": {
            "text/plain": [
              "('Severe', 0.7403386831283569)"
            ]
          },
          "metadata": {},
          "execution_count": 14
        }
      ]
    }
  ]
}